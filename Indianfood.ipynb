{
 "cells": [
  {
   "cell_type": "code",
   "execution_count": 42,
   "id": "77355341",
   "metadata": {},
   "outputs": [],
   "source": [
    "import pandas as pd"
   ]
  },
  {
   "cell_type": "code",
   "execution_count": 43,
   "id": "fa374cbb",
   "metadata": {},
   "outputs": [],
   "source": [
    "df = pd.read_csv ('/home/melodie/Téléchargements/indian_food.csv')"
   ]
  },
  {
   "cell_type": "code",
   "execution_count": 44,
   "id": "33fcdd77",
   "metadata": {},
   "outputs": [
    {
     "data": {
      "text/plain": [
       "name              object\n",
       "ingredients       object\n",
       "diet              object\n",
       "prep_time          int64\n",
       "cook_time          int64\n",
       "flavor_profile    object\n",
       "course            object\n",
       "state             object\n",
       "region            object\n",
       "dtype: object"
      ]
     },
     "execution_count": 44,
     "metadata": {},
     "output_type": "execute_result"
    }
   ],
   "source": [
    "df.dtypes"
   ]
  },
  {
   "cell_type": "code",
   "execution_count": 45,
   "id": "6b964324",
   "metadata": {},
   "outputs": [
    {
     "data": {
      "text/plain": [
       "name              0\n",
       "ingredients       0\n",
       "diet              0\n",
       "prep_time         0\n",
       "cook_time         0\n",
       "flavor_profile    0\n",
       "course            0\n",
       "state             0\n",
       "region            1\n",
       "dtype: int64"
      ]
     },
     "execution_count": 45,
     "metadata": {},
     "output_type": "execute_result"
    }
   ],
   "source": [
    "df.isnull().sum()"
   ]
  },
  {
   "cell_type": "code",
   "execution_count": 46,
   "id": "88e04e32",
   "metadata": {},
   "outputs": [
    {
     "data": {
      "text/plain": [
       "array(['East', 'West', 'North', '-1', 'North East', 'South', 'Central',\n",
       "       nan], dtype=object)"
      ]
     },
     "execution_count": 46,
     "metadata": {},
     "output_type": "execute_result"
    }
   ],
   "source": [
    "df[\"region\"].unique()"
   ]
  },
  {
   "cell_type": "code",
   "execution_count": 51,
   "id": "7afe143c",
   "metadata": {},
   "outputs": [
    {
     "name": "stdout",
     "output_type": "stream",
     "text": [
      "         name                                        ingredients        diet  \\\n",
      "110  Panjeeri  Whole wheat flour, musk melon seeds, poppy see...  vegetarian   \n",
      "\n",
      "     prep_time  cook_time flavor_profile   course          state     region  \n",
      "110         10         25          sweet  dessert  Uttar Pradesh  not_found  \n"
     ]
    }
   ],
   "source": [
    "df[\"region\"].fillna(\"not_found\", inplace = True)\n",
    "df2 = df[df[\"region\"] == \"not_found\"]\n",
    "print(df2)"
   ]
  },
  {
   "cell_type": "code",
   "execution_count": 52,
   "id": "d9190129",
   "metadata": {},
   "outputs": [
    {
     "data": {
      "text/plain": [
       "255"
      ]
     },
     "execution_count": 52,
     "metadata": {},
     "output_type": "execute_result"
    }
   ],
   "source": [
    "len(df)"
   ]
  },
  {
   "cell_type": "code",
   "execution_count": 54,
   "id": "b0d6d886",
   "metadata": {},
   "outputs": [
    {
     "name": "stdout",
     "output_type": "stream",
     "text": [
      "['Panjeeri']\n"
     ]
    }
   ],
   "source": [
    "array1 = []\n",
    "for i in range(len(df)) :\n",
    "    if df.region.loc[i] == \"not_found\" :\n",
    "        array1.append(df.name.loc[i])\n",
    "print(array1)"
   ]
  },
  {
   "cell_type": "code",
   "execution_count": 56,
   "id": "c1933911",
   "metadata": {},
   "outputs": [
    {
     "name": "stdout",
     "output_type": "stream",
     "text": [
      "0                        Maida flour, yogurt, oil, sugar\n",
      "1                                Gram flour, ghee, sugar\n",
      "2           Carrots, milk, sugar, ghee, cashews, raisins\n",
      "3      Flour, ghee, kewra, milk, clarified butter, su...\n",
      "4      Milk powder, plain flour, baking powder, ghee,...\n",
      "                             ...                        \n",
      "250              Glutinous rice, black sesame seeds, gur\n",
      "251    Coconut milk, egg yolks, clarified butter, all...\n",
      "252    Cottage cheese, dry dates, dried rose petals, ...\n",
      "253    Milk powder, dry fruits, arrowroot powder, all...\n",
      "254    Brown rice, fennel seeds, grated coconut, blac...\n",
      "Name: ingredients, Length: 255, dtype: object\n"
     ]
    }
   ],
   "source": [
    "print(df[\"ingredients\"])"
   ]
  },
  {
   "cell_type": "code",
   "execution_count": 57,
   "id": "62e9ce72",
   "metadata": {},
   "outputs": [],
   "source": []
  },
  {
   "cell_type": "code",
   "execution_count": null,
   "id": "59d3ee89",
   "metadata": {},
   "outputs": [],
   "source": []
  }
 ],
 "metadata": {
  "kernelspec": {
   "display_name": "Python 3 (ipykernel)",
   "language": "python",
   "name": "python3"
  },
  "language_info": {
   "codemirror_mode": {
    "name": "ipython",
    "version": 3
   },
   "file_extension": ".py",
   "mimetype": "text/x-python",
   "name": "python",
   "nbconvert_exporter": "python",
   "pygments_lexer": "ipython3",
   "version": "3.8.10"
  }
 },
 "nbformat": 4,
 "nbformat_minor": 5
}
